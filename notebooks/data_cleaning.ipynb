{
 "cells": [
  {
   "cell_type": "markdown",
   "id": "e12844f0",
   "metadata": {},
   "source": [
    "# Load data & check first 5 datas"
   ]
  },
  {
   "cell_type": "code",
   "execution_count": 15,
   "id": "e2dd98ac",
   "metadata": {},
   "outputs": [
    {
     "data": {
      "text/html": [
       "<div>\n",
       "<style scoped>\n",
       "    .dataframe tbody tr th:only-of-type {\n",
       "        vertical-align: middle;\n",
       "    }\n",
       "\n",
       "    .dataframe tbody tr th {\n",
       "        vertical-align: top;\n",
       "    }\n",
       "\n",
       "    .dataframe thead th {\n",
       "        text-align: right;\n",
       "    }\n",
       "</style>\n",
       "<table border=\"1\" class=\"dataframe\">\n",
       "  <thead>\n",
       "    <tr style=\"text-align: right;\">\n",
       "      <th></th>\n",
       "      <th>brand</th>\n",
       "      <th>model</th>\n",
       "      <th>model_year</th>\n",
       "      <th>milage</th>\n",
       "      <th>fuel_type</th>\n",
       "      <th>engine</th>\n",
       "      <th>transmission</th>\n",
       "      <th>ext_col</th>\n",
       "      <th>int_col</th>\n",
       "      <th>accident</th>\n",
       "      <th>clean_title</th>\n",
       "      <th>price</th>\n",
       "    </tr>\n",
       "  </thead>\n",
       "  <tbody>\n",
       "    <tr>\n",
       "      <th>0</th>\n",
       "      <td>Ford</td>\n",
       "      <td>Utility Police Interceptor Base</td>\n",
       "      <td>2013</td>\n",
       "      <td>51,000 mi.</td>\n",
       "      <td>E85 Flex Fuel</td>\n",
       "      <td>300.0HP 3.7L V6 Cylinder Engine Flex Fuel Capa...</td>\n",
       "      <td>6-Speed A/T</td>\n",
       "      <td>Black</td>\n",
       "      <td>Black</td>\n",
       "      <td>At least 1 accident or damage reported</td>\n",
       "      <td>Yes</td>\n",
       "      <td>$10,300</td>\n",
       "    </tr>\n",
       "    <tr>\n",
       "      <th>1</th>\n",
       "      <td>Hyundai</td>\n",
       "      <td>Palisade SEL</td>\n",
       "      <td>2021</td>\n",
       "      <td>34,742 mi.</td>\n",
       "      <td>Gasoline</td>\n",
       "      <td>3.8L V6 24V GDI DOHC</td>\n",
       "      <td>8-Speed Automatic</td>\n",
       "      <td>Moonlight Cloud</td>\n",
       "      <td>Gray</td>\n",
       "      <td>At least 1 accident or damage reported</td>\n",
       "      <td>Yes</td>\n",
       "      <td>$38,005</td>\n",
       "    </tr>\n",
       "    <tr>\n",
       "      <th>2</th>\n",
       "      <td>Lexus</td>\n",
       "      <td>RX 350 RX 350</td>\n",
       "      <td>2022</td>\n",
       "      <td>22,372 mi.</td>\n",
       "      <td>Gasoline</td>\n",
       "      <td>3.5 Liter DOHC</td>\n",
       "      <td>Automatic</td>\n",
       "      <td>Blue</td>\n",
       "      <td>Black</td>\n",
       "      <td>None reported</td>\n",
       "      <td>NaN</td>\n",
       "      <td>$54,598</td>\n",
       "    </tr>\n",
       "    <tr>\n",
       "      <th>3</th>\n",
       "      <td>INFINITI</td>\n",
       "      <td>Q50 Hybrid Sport</td>\n",
       "      <td>2015</td>\n",
       "      <td>88,900 mi.</td>\n",
       "      <td>Hybrid</td>\n",
       "      <td>354.0HP 3.5L V6 Cylinder Engine Gas/Electric H...</td>\n",
       "      <td>7-Speed A/T</td>\n",
       "      <td>Black</td>\n",
       "      <td>Black</td>\n",
       "      <td>None reported</td>\n",
       "      <td>Yes</td>\n",
       "      <td>$15,500</td>\n",
       "    </tr>\n",
       "    <tr>\n",
       "      <th>4</th>\n",
       "      <td>Audi</td>\n",
       "      <td>Q3 45 S line Premium Plus</td>\n",
       "      <td>2021</td>\n",
       "      <td>9,835 mi.</td>\n",
       "      <td>Gasoline</td>\n",
       "      <td>2.0L I4 16V GDI DOHC Turbo</td>\n",
       "      <td>8-Speed Automatic</td>\n",
       "      <td>Glacier White Metallic</td>\n",
       "      <td>Black</td>\n",
       "      <td>None reported</td>\n",
       "      <td>NaN</td>\n",
       "      <td>$34,999</td>\n",
       "    </tr>\n",
       "  </tbody>\n",
       "</table>\n",
       "</div>"
      ],
      "text/plain": [
       "      brand                            model  model_year      milage  \\\n",
       "0      Ford  Utility Police Interceptor Base        2013  51,000 mi.   \n",
       "1   Hyundai                     Palisade SEL        2021  34,742 mi.   \n",
       "2     Lexus                    RX 350 RX 350        2022  22,372 mi.   \n",
       "3  INFINITI                 Q50 Hybrid Sport        2015  88,900 mi.   \n",
       "4      Audi        Q3 45 S line Premium Plus        2021   9,835 mi.   \n",
       "\n",
       "       fuel_type                                             engine  \\\n",
       "0  E85 Flex Fuel  300.0HP 3.7L V6 Cylinder Engine Flex Fuel Capa...   \n",
       "1       Gasoline                               3.8L V6 24V GDI DOHC   \n",
       "2       Gasoline                                     3.5 Liter DOHC   \n",
       "3         Hybrid  354.0HP 3.5L V6 Cylinder Engine Gas/Electric H...   \n",
       "4       Gasoline                         2.0L I4 16V GDI DOHC Turbo   \n",
       "\n",
       "        transmission                 ext_col int_col  \\\n",
       "0        6-Speed A/T                   Black   Black   \n",
       "1  8-Speed Automatic         Moonlight Cloud    Gray   \n",
       "2          Automatic                    Blue   Black   \n",
       "3        7-Speed A/T                   Black   Black   \n",
       "4  8-Speed Automatic  Glacier White Metallic   Black   \n",
       "\n",
       "                                 accident clean_title    price  \n",
       "0  At least 1 accident or damage reported         Yes  $10,300  \n",
       "1  At least 1 accident or damage reported         Yes  $38,005  \n",
       "2                           None reported         NaN  $54,598  \n",
       "3                           None reported         Yes  $15,500  \n",
       "4                           None reported         NaN  $34,999  "
      ]
     },
     "execution_count": 15,
     "metadata": {},
     "output_type": "execute_result"
    }
   ],
   "source": [
    "import pandas as pd\n",
    "import numpy as np\n",
    "pf = pd.read_csv(\"/Users/hayden/Downloads/Projects/used_car_project/data/raw/used_cars.csv\")\n",
    "pf.head()"
   ]
  },
  {
   "cell_type": "markdown",
   "id": "e4cd37dc",
   "metadata": {},
   "source": [
    "# Check for duplicates, null values & column types"
   ]
  },
  {
   "cell_type": "code",
   "execution_count": 16,
   "id": "3901b143",
   "metadata": {},
   "outputs": [
    {
     "name": "stdout",
     "output_type": "stream",
     "text": [
      "<class 'pandas.core.frame.DataFrame'>\n",
      "RangeIndex: 4009 entries, 0 to 4008\n",
      "Data columns (total 12 columns):\n",
      " #   Column        Non-Null Count  Dtype \n",
      "---  ------        --------------  ----- \n",
      " 0   brand         4009 non-null   object\n",
      " 1   model         4009 non-null   object\n",
      " 2   model_year    4009 non-null   int64 \n",
      " 3   milage        4009 non-null   object\n",
      " 4   fuel_type     3839 non-null   object\n",
      " 5   engine        4009 non-null   object\n",
      " 6   transmission  4009 non-null   object\n",
      " 7   ext_col       4009 non-null   object\n",
      " 8   int_col       4009 non-null   object\n",
      " 9   accident      3896 non-null   object\n",
      " 10  clean_title   3413 non-null   object\n",
      " 11  price         4009 non-null   object\n",
      "dtypes: int64(1), object(11)\n",
      "memory usage: 376.0+ KB\n"
     ]
    },
    {
     "data": {
      "text/plain": [
       "brand             0\n",
       "model             0\n",
       "model_year        0\n",
       "milage            0\n",
       "fuel_type       170\n",
       "engine            0\n",
       "transmission      0\n",
       "ext_col           0\n",
       "int_col           0\n",
       "accident        113\n",
       "clean_title     596\n",
       "price             0\n",
       "dtype: int64"
      ]
     },
     "execution_count": 16,
     "metadata": {},
     "output_type": "execute_result"
    }
   ],
   "source": [
    "pf.info()\n",
    "pf.describe()\n",
    "pf.isnull().sum()"
   ]
  },
  {
   "cell_type": "code",
   "execution_count": 17,
   "id": "3e0a60ed",
   "metadata": {},
   "outputs": [],
   "source": [
    "# Remove duplicates\n",
    "\n",
    "pf = pf.drop_duplicates()"
   ]
  },
  {
   "cell_type": "markdown",
   "id": "742e6e40",
   "metadata": {},
   "source": [
    "# Missing values"
   ]
  },
  {
   "cell_type": "code",
   "execution_count": 18,
   "id": "6a0b6848",
   "metadata": {},
   "outputs": [],
   "source": [
    "pf['accident'] = pf['accident'].fillna(\"No\") # cars with no accidents had blanks\n",
    "pf['fuel_type'] = pf['fuel_type'].fillna(\"Electric\") # values with no fuel type were all electric cars\n",
    "pf['clean_title'] = pf['clean_title'].fillna(\"No\") # cars with no clean title had blanks\n"
   ]
  },
  {
   "cell_type": "markdown",
   "id": "1cedb6fe",
   "metadata": {},
   "source": [
    "# Outliers"
   ]
  },
  {
   "cell_type": "code",
   "execution_count": 19,
   "id": "7c31c02b",
   "metadata": {},
   "outputs": [],
   "source": [
    "pf['price'] = pf['price'].replace('[$,]', '', regex=True).astype(float) # remove $ sign so price column could be a numeric column\n",
    "pf = pf[pf['price'] < 300000]  # Assuming not many used cars are priced above 300k"
   ]
  },
  {
   "cell_type": "markdown",
   "id": "8b2de299",
   "metadata": {},
   "source": [
    "# Remove unnecessary columns"
   ]
  },
  {
   "cell_type": "code",
   "execution_count": 20,
   "id": "8efdc355",
   "metadata": {},
   "outputs": [],
   "source": [
    "pf = pf.drop(['transmission'], axis = 1)"
   ]
  },
  {
   "cell_type": "markdown",
   "id": "fd74231d",
   "metadata": {},
   "source": [
    "# Mileage & bins"
   ]
  },
  {
   "cell_type": "code",
   "execution_count": 21,
   "id": "1efea5ea",
   "metadata": {},
   "outputs": [],
   "source": [
    "# mileage typo\n",
    "pf.rename(columns={'milage' : 'mileage'}, inplace=True)\n",
    "\n",
    "# change mileage into bare numbers\n",
    "pf['mileage'] = pf['mileage'].astype(str)\n",
    "pf['mileage'] = pf['mileage'].str.replace('mi.', '', case=False)\n",
    "pf['mileage'] = pf['mileage'].str.replace(',', '')\n",
    "pf['mileage'] = pf['mileage'].str.strip()\n",
    "pf['mileage'] = pd.to_numeric(pf['mileage'], errors='coerce')\n",
    "\n",
    "# sort mileage into bins\n",
    "bins = [0, 20_000, 40_000, 60_000, 80_000, 100_000, 150_000, 200_000, np.inf]\n",
    "labels = [\"0-20k\", \"20k-40k\", \"40k-60k\", \"60k-80k\", \"80k-100k\", \"100k-150k\", \"150k-200k\", \"200k+\"]\n",
    "pf['mile_bin'] = pd.cut(pf['mileage'], bins=bins, labels=labels, right = True, include_lowest = True)\n"
   ]
  },
  {
   "cell_type": "markdown",
   "id": "3c43e2e7",
   "metadata": {},
   "source": [
    "# Binary values\n",
    "    Change yes/no into binary values"
   ]
  },
  {
   "cell_type": "code",
   "execution_count": 22,
   "id": "0a1b34c5",
   "metadata": {},
   "outputs": [],
   "source": [
    "pf['accident'] = pf['accident'].map({'At least 1 accident or damage reported': 1, 'None reported': 0}) # 1 : accident, 0 : no accidents\n",
    "pf['clean_title'] = pf['clean_title'].map({'Yes': 1, 'No': 0}) # 1 : clean title, 0 : not clean title\n",
    "pf = pf.dropna(subset = ['accident'])"
   ]
  },
  {
   "cell_type": "markdown",
   "id": "c08dc543",
   "metadata": {},
   "source": [
    "# Interrior/exterior cleaning\n",
    "    replace '-' to 'other'"
   ]
  },
  {
   "cell_type": "code",
   "execution_count": 23,
   "id": "e78e60e8",
   "metadata": {},
   "outputs": [],
   "source": [
    "pf['int_col'] = pf['int_col'].replace('–', pd.NA)\n",
    "pf['ext_col'] = pf['ext_col'].replace('–', pd.NA)\n",
    "\n",
    "pf['ext_col'] = pf['ext_col'].fillna(\"other\")\n",
    "pf['int_col'] = pf['int_col'].fillna(\"other\")\n"
   ]
  },
  {
   "cell_type": "markdown",
   "id": "a6294090",
   "metadata": {},
   "source": [
    "# Age of the car"
   ]
  },
  {
   "cell_type": "code",
   "execution_count": 24,
   "id": "088c4cdd",
   "metadata": {},
   "outputs": [],
   "source": [
    "Year = 2025\n",
    "pf['car_age'] = Year - pf['model_year']\n",
    "pf = pf.drop(['model_year'], axis=1)"
   ]
  },
  {
   "cell_type": "markdown",
   "id": "bb71db55",
   "metadata": {},
   "source": [
    "# Price per mile"
   ]
  },
  {
   "cell_type": "code",
   "execution_count": 25,
   "id": "d1a3b5ea",
   "metadata": {},
   "outputs": [],
   "source": [
    "pf['price_per_mile'] = pf['price']/pf['mileage'].replace({0: np.nan})"
   ]
  },
  {
   "cell_type": "markdown",
   "id": "2700457f",
   "metadata": {},
   "source": [
    "# Group ext color\n",
    "    6 most popular colors and group other colors"
   ]
  },
  {
   "cell_type": "code",
   "execution_count": 26,
   "id": "08e9b25e",
   "metadata": {},
   "outputs": [],
   "source": [
    "pf['ext_col_grouped'] = np.where(pf['ext_col'].isin(['Black', 'Blue', 'Silver', 'White', 'Gray', 'Red']), pf['ext_col'], 'other')"
   ]
  },
  {
   "cell_type": "markdown",
   "id": "cb5e8778",
   "metadata": {},
   "source": [
    "# Export cleaned data into clean data file"
   ]
  },
  {
   "cell_type": "code",
   "execution_count": 27,
   "id": "603416c5",
   "metadata": {},
   "outputs": [],
   "source": [
    "pf.to_csv(\"/Users/hayden/Downloads/Projects/used_car_project/data/cleaned/used_cars_cleaned.csv\", index=False)"
   ]
  },
  {
   "cell_type": "code",
   "execution_count": 28,
   "id": "d96e67cc",
   "metadata": {},
   "outputs": [
    {
     "name": "stdout",
     "output_type": "stream",
     "text": [
      "<class 'pandas.core.frame.DataFrame'>\n",
      "Index: 3868 entries, 0 to 4008\n",
      "Data columns (total 14 columns):\n",
      " #   Column           Non-Null Count  Dtype   \n",
      "---  ------           --------------  -----   \n",
      " 0   brand            3868 non-null   object  \n",
      " 1   model            3868 non-null   object  \n",
      " 2   mileage          3868 non-null   int64   \n",
      " 3   fuel_type        3868 non-null   object  \n",
      " 4   engine           3868 non-null   object  \n",
      " 5   ext_col          3868 non-null   object  \n",
      " 6   int_col          3868 non-null   object  \n",
      " 7   accident         3868 non-null   float64 \n",
      " 8   clean_title      3868 non-null   int64   \n",
      " 9   price            3868 non-null   float64 \n",
      " 10  mile_bin         3868 non-null   category\n",
      " 11  car_age          3868 non-null   int64   \n",
      " 12  price_per_mile   3868 non-null   float64 \n",
      " 13  ext_col_grouped  3868 non-null   object  \n",
      "dtypes: category(1), float64(3), int64(3), object(7)\n",
      "memory usage: 427.2+ KB\n"
     ]
    },
    {
     "data": {
      "text/plain": [
       "brand              0\n",
       "model              0\n",
       "mileage            0\n",
       "fuel_type          0\n",
       "engine             0\n",
       "ext_col            0\n",
       "int_col            0\n",
       "accident           0\n",
       "clean_title        0\n",
       "price              0\n",
       "mile_bin           0\n",
       "car_age            0\n",
       "price_per_mile     0\n",
       "ext_col_grouped    0\n",
       "dtype: int64"
      ]
     },
     "execution_count": 28,
     "metadata": {},
     "output_type": "execute_result"
    }
   ],
   "source": [
    "pf.info()\n",
    "pf.isnull().sum()"
   ]
  }
 ],
 "metadata": {
  "kernelspec": {
   "display_name": "virtual env",
   "language": "python",
   "name": ".venv"
  },
  "language_info": {
   "codemirror_mode": {
    "name": "ipython",
    "version": 3
   },
   "file_extension": ".py",
   "mimetype": "text/x-python",
   "name": "python",
   "nbconvert_exporter": "python",
   "pygments_lexer": "ipython3",
   "version": "3.12.1"
  }
 },
 "nbformat": 4,
 "nbformat_minor": 5
}

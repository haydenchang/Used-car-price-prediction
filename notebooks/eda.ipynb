{
 "cells": [
  {
   "cell_type": "code",
   "execution_count": null,
   "id": "42bc0ddd",
   "metadata": {},
   "outputs": [],
   "source": [
    "import pandas as pd\n",
    "import matplotlib.pyplot as plt\n",
    "import seaborn as sns\n",
    "import numpy as np\n",
    "\n",
    "df = pd.read_csv(\"/Users/hayden/Downloads/Projects/used_car_project/data/cleaned/used_cars_cleaned.csv\")\n",
    "df.head()"
   ]
  },
  {
   "cell_type": "markdown",
   "id": "81e31ac2",
   "metadata": {},
   "source": [
    "# Histogram of Prices"
   ]
  },
  {
   "cell_type": "code",
   "execution_count": null,
   "id": "3341afbe",
   "metadata": {},
   "outputs": [],
   "source": [
    "plt.figure(figsize=(8, 5))\n",
    "sns.histplot(df['price'], bins=40, kde=True)\n",
    "plt.xlim(0, 150000)\n",
    "plt.title('Distribution of Car Prices')\n",
    "plt.xlabel('Price')\n",
    "plt.ylabel('Count')\n",
    "plt.grid(True)\n",
    "plt.show()"
   ]
  },
  {
   "cell_type": "markdown",
   "id": "ea2e1e29",
   "metadata": {},
   "source": [
    "# Scatterplot of Mileages"
   ]
  },
  {
   "cell_type": "code",
   "execution_count": null,
   "id": "130d15a8",
   "metadata": {},
   "outputs": [],
   "source": [
    "plt.figure(figsize = (8,5))\n",
    "sns.scatterplot(data = df, x = 'mileage', y = 'price') ## What is KDE?\n",
    "plt.ylim(0, 100000)\n",
    "plt.title('Mileage vs Price')\n",
    "plt.xscale('log')\n",
    "plt.xlabel('Mileage')\n",
    "plt.ylabel('Price')\n",
    "plt.show()"
   ]
  },
  {
   "cell_type": "markdown",
   "id": "bc3ecdf6",
   "metadata": {},
   "source": [
    "# Distribution of Car Brands"
   ]
  },
  {
   "cell_type": "code",
   "execution_count": null,
   "id": "d17dd4bc",
   "metadata": {},
   "outputs": [],
   "source": [
    "plt.figure(figsize=(12,12))\n",
    "sns.countplot(df['brand'], order= df['brand'].value_counts().index)\n",
    "plt.title('Distribution of Car Brands')\n",
    "plt.xlabel('Brand')\n",
    "plt.ylabel('Count')\n",
    "plt.grid(True)\n",
    "plt.show()"
   ]
  },
  {
   "cell_type": "markdown",
   "id": "205c203a",
   "metadata": {},
   "source": [
    "# Mileage vs Price\n",
    "    mileage in range since mileage vs price above didn't show any significant result"
   ]
  },
  {
   "cell_type": "code",
   "execution_count": null,
   "id": "052c47cd",
   "metadata": {},
   "outputs": [],
   "source": [
    "plt.figure(figsize=(12,8))\n",
    "df_sort = df.sort_values('price', ascending= False)\n",
    "sns.barplot(data=df, x='mile_bin', y='price', alpha=0.6, order = df_sort['mile_bin'])\n",
    "plt.title('Average Price by Mileage Range')\n",
    "plt.xlabel('Mileage Range')\n",
    "plt.ylabel('Average Price')\n",
    "plt.show()"
   ]
  },
  {
   "cell_type": "markdown",
   "id": "2360aed6",
   "metadata": {},
   "source": [
    "# Box plot for accident history\n",
    "    Shows that on average cars with no accidents are priced higher than those with accidents."
   ]
  },
  {
   "cell_type": "code",
   "execution_count": null,
   "id": "0752bbd9",
   "metadata": {},
   "outputs": [],
   "source": [
    "plt.figure(figsize=(10, 6))\n",
    "sns.boxplot(data=df, x='accident', y='price')\n",
    "plt.ylim(0, 150000)\n",
    "plt.title('Price Distribution by Accident History')\n",
    "plt.xlabel('Accident History')\n",
    "plt.ylabel('Price')\n",
    "plt.show()"
   ]
  },
  {
   "cell_type": "markdown",
   "id": "7ce9c1c2",
   "metadata": {},
   "source": [
    "# Average price by maker"
   ]
  },
  {
   "cell_type": "code",
   "execution_count": null,
   "id": "05eaa73b",
   "metadata": {},
   "outputs": [],
   "source": [
    "plt.figure(figsize=(50, 6))\n",
    "sns.barplot(data=df, x='brand', y='price', estimator='mean', order= df.groupby('brand')['price'].mean().sort_values(ascending=True).index)\n",
    "plt.ylim(0, 200000)\n",
    "plt.title('Average Price by Maker')\n",
    "plt.xlabel('Maker')\n",
    "plt.ylabel('Average Price')\n",
    "plt.show()"
   ]
  },
  {
   "cell_type": "markdown",
   "id": "ec7a078c",
   "metadata": {},
   "source": [
    "# Car age vs Price"
   ]
  },
  {
   "cell_type": "code",
   "execution_count": null,
   "id": "de9364b0",
   "metadata": {},
   "outputs": [],
   "source": [
    "plt.figure(figsize=(10, 6))\n",
    "sns.scatterplot(data=df, x='car_age', y='price', alpha=0.6)\n",
    "plt.title('Car Age vs Price')\n",
    "plt.xlabel('Car Age (Years)')\n",
    "plt.ylabel('Price')\n",
    "#plt.xscale('log')  # Log scale for better visibility\n",
    "plt.yscale('log')  # Log scale for better visibility\n",
    "plt.xlim(0,30)\n",
    "plt.show()"
   ]
  },
  {
   "cell_type": "markdown",
   "id": "6a1b9ac4",
   "metadata": {},
   "source": [
    "# Car price by fuel type"
   ]
  },
  {
   "cell_type": "code",
   "execution_count": null,
   "id": "0461b7e6",
   "metadata": {},
   "outputs": [],
   "source": [
    "plt.figure(figsize = (10,6))\n",
    "\n",
    "sns.boxplot(data = df, x = df['fuel_type'], y = 'price', order = df[~df['fuel_type'].isin([\"–\", \"not supported\"])].groupby('fuel_type')['price'].mean().sort_values().index)\n",
    "\n",
    "plt.title('Average price by fuel type')\n",
    "plt.xlabel('Fuel type')\n",
    "plt.ylabel('Price')\n",
    "plt.ylim(0,125000)\n",
    "plt.show()"
   ]
  },
  {
   "cell_type": "markdown",
   "id": "a514c89b",
   "metadata": {},
   "source": [
    "# Car price by exterior color"
   ]
  },
  {
   "cell_type": "code",
   "execution_count": null,
   "id": "ba0b08e8",
   "metadata": {},
   "outputs": [],
   "source": [
    "plt.figure(figsize = (10,6))\n",
    "sns.boxplot(data = df, x = 'ext_col_grouped', y = 'price', order = df.groupby('ext_col_grouped')['price'].mean().sort_values(ascending=True).index)\n",
    "plt.title('Average price by exterior color')\n",
    "plt.xlabel('Exterior color')\n",
    "plt.ylabel('Price')\n",
    "plt.ylim(0,100000)\n",
    "plt.show()"
   ]
  },
  {
   "cell_type": "markdown",
   "id": "da24c008",
   "metadata": {},
   "source": [
    "# Car price by clean title"
   ]
  },
  {
   "cell_type": "code",
   "execution_count": null,
   "id": "333b4b82",
   "metadata": {},
   "outputs": [],
   "source": [
    "plt.figure(figsize = (10,6))\n",
    "sns.boxplot(data = df, x = 'clean_title', y = 'price')\n",
    "plt.title('Average price by clean title')\n",
    "plt.xticks(ticks = [0,1], labels=['Yes', 'No'])\n",
    "plt.xlabel('Does the vehicle have clean title')\n",
    "plt.ylabel('Price')\n",
    "plt.ylim(0,125000)\n",
    "plt.show()"
   ]
  },
  {
   "cell_type": "markdown",
   "id": "1fb23782",
   "metadata": {},
   "source": [
    "# Heatmap"
   ]
  },
  {
   "cell_type": "code",
   "execution_count": null,
   "id": "fe99b6e4",
   "metadata": {},
   "outputs": [],
   "source": [
    "corr = df.corr(numeric_only=True)\n",
    "price_corr = corr[['price']].drop('price')\n",
    "# --- Focus on price & price_per_mile correlations ---\n",
    "plt.figure(figsize=(10,6))\n",
    "sns.heatmap(\n",
    "    price_corr.sort_values(by='price', ascending=False),\n",
    "    annot=True,\n",
    "    fmt=\".2f\",\n",
    "    cmap=\"coolwarm\",\n",
    "    center=0\n",
    ")\n",
    "\n",
    "plt.title(\"Correlation of Features with Price\", fontsize=14)\n",
    "plt.show()"
   ]
  }
 ],
 "metadata": {
  "kernelspec": {
   "display_name": "virtual env",
   "language": "python",
   "name": ".venv"
  },
  "language_info": {
   "codemirror_mode": {
    "name": "ipython",
    "version": 3
   },
   "file_extension": ".py",
   "mimetype": "text/x-python",
   "name": "python",
   "nbconvert_exporter": "python",
   "pygments_lexer": "ipython3",
   "version": "3.12.1"
  }
 },
 "nbformat": 4,
 "nbformat_minor": 5
}
